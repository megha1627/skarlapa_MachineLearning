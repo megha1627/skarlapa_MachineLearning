{
  "cells": [
    {
      "cell_type": "markdown",
      "metadata": {
        "id": "view-in-github",
        "colab_type": "text"
      },
      "source": [
        "<a href=\"https://colab.research.google.com/github/megha1627/skarlapa_MachineLearning/blob/main/AML_4_ASSIGNMENTSUB.ipynb\" target=\"_parent\"><img src=\"https://colab.research.google.com/assets/colab-badge.svg\" alt=\"Open In Colab\"/></a>"
      ]
    },
    {
      "cell_type": "markdown",
      "metadata": {
        "id": "W6LBlBctzGmd"
      },
      "source": [
        "This is a companion notebook for the book [Deep Learning with Python, Second Edition](https://www.manning.com/books/deep-learning-with-python-second-edition?a_aid=keras&a_bid=76564dff). For readability, it only contains runnable code blocks and section titles, and omits everything else in the book: text paragraphs, figures, and pseudocode.\n",
        "\n",
        "**If you want to be able to follow what's going on, I recommend reading the notebook side by side with your copy of the book.**\n",
        "\n",
        "This notebook was generated for TensorFlow 2.6."
      ]
    },
    {
      "cell_type": "markdown",
      "metadata": {
        "id": "54WiKpXbzGmf"
      },
      "source": [
        "### Processing words as a sequence: The sequence model approach"
      ]
    },
    {
      "cell_type": "markdown",
      "metadata": {
        "id": "0Traj_ewzGmg"
      },
      "source": [
        "#### A first practical example"
      ]
    },
    {
      "cell_type": "markdown",
      "metadata": {
        "id": "rmpIJo6SzGmg"
      },
      "source": [
        "**Downloading the data**"
      ]
    },
    {
      "cell_type": "code",
      "execution_count": null,
      "metadata": {
        "id": "aFVsVWKYzGmg",
        "outputId": "e62acb7b-6568-44ca-8232-61996269339a",
        "colab": {
          "base_uri": "https://localhost:8080/"
        }
      },
      "outputs": [
        {
          "output_type": "stream",
          "name": "stdout",
          "text": [
            "  % Total    % Received % Xferd  Average Speed   Time    Time     Time  Current\n",
            "                                 Dload  Upload   Total   Spent    Left  Speed\n",
            "100 80.2M  100 80.2M    0     0  28.7M      0  0:00:02  0:00:02 --:--:-- 28.7M\n"
          ]
        }
      ],
      "source": [
        "!curl -O https://ai.stanford.edu/~amaas/data/sentiment/aclImdb_v1.tar.gz\n",
        "!tar -xf aclImdb_v1.tar.gz\n",
        "!rm -r aclImdb/train/unsup"
      ]
    },
    {
      "cell_type": "markdown",
      "metadata": {
        "id": "GUIVQxlwzGmh"
      },
      "source": [
        "**Preparing the data**\n",
        "\n",
        "\n",
        "\n",
        "\n",
        "\n",
        "\n",
        "\n",
        "\n",
        "\n",
        "\n",
        "\n",
        "\n",
        "\n",
        "\n",
        "\n",
        "\n",
        "\n",
        "\n",
        "\n",
        "\n",
        "\n",
        "\n",
        "\n",
        "\n",
        "\n",
        "\n",
        "\n",
        "\n"
      ]
    },
    {
      "cell_type": "code",
      "execution_count": null,
      "metadata": {
        "id": "ffrBYuBgzGmh",
        "colab": {
          "base_uri": "https://localhost:8080/"
        },
        "outputId": "47388fbe-a317-493c-c61d-6a2caa8f8460"
      },
      "outputs": [
        {
          "output_type": "stream",
          "name": "stdout",
          "text": [
            "Found 20000 files belonging to 2 classes.\n",
            "Found 5000 files belonging to 2 classes.\n",
            "Found 25000 files belonging to 2 classes.\n"
          ]
        }
      ],
      "source": [
        "import os, pathlib, shutil, random\n",
        "from tensorflow import keras\n",
        "batch_size = 32\n",
        "base_dir = pathlib.Path(\"aclImdb\")\n",
        "val_dir = base_dir / \"val\"\n",
        "train_dir = base_dir / \"train\"\n",
        "for category in (\"neg\", \"pos\"):\n",
        "    os.makedirs(val_dir / category)\n",
        "    files = os.listdir(train_dir / category)\n",
        "    random.Random(1337).shuffle(files)\n",
        "    num_val_samples = int(0.2 * len(files))\n",
        "    val_files = files[-num_val_samples:]\n",
        "    for fname in val_files:\n",
        "        shutil.move(train_dir / category / fname,\n",
        "                    val_dir / category / fname)\n",
        "train_ds = keras.utils.text_dataset_from_directory(\n",
        "    \"aclImdb/train\", batch_size=batch_size\n",
        ")\n",
        "val_ds = keras.utils.text_dataset_from_directory(\n",
        "    \"aclImdb/val\", batch_size=batch_size\n",
        ")\n",
        "test_ds = keras.utils.text_dataset_from_directory(\n",
        "    \"aclImdb/test\", batch_size=batch_size\n",
        ")\n",
        "text_only_train_ds = train_ds.map(lambda x, y: x)"
      ]
    },
    {
      "cell_type": "markdown",
      "metadata": {
        "id": "ZeGtpjsSzGmi"
      },
      "source": [
        "**Preparing integer sequence datasets**"
      ]
    },
    {
      "cell_type": "code",
      "execution_count": null,
      "metadata": {
        "id": "C0gv2-hXzGmi"
      },
      "outputs": [],
      "source": [
        "from tensorflow.keras import layers\n",
        "\n",
        "max_tokens = 10000\n",
        "text_vectorization = layers.TextVectorization(\n",
        "    max_tokens=max_tokens,\n",
        "    output_mode=\"int\",\n",
        "    output_sequence_length=150 #Setting up Cutoff reviews after 150 words,\n",
        ")\n",
        "text_vectorization.adapt(text_only_train_ds)\n",
        "\n",
        "training_samples=2000;\n",
        "train_ds = train_ds.take(training_samples)\n",
        "training = train_ds.map(\n",
        "    lambda x, y: (text_vectorization(x), y),\n",
        "    num_parallel_calls=4)\n",
        "validation_samples=10000\n",
        "val_ds = val_ds.take(validation_samples)\n",
        "validation = val_ds.map(\n",
        "    lambda x, y: (text_vectorization(x), y),\n",
        "    num_parallel_calls=4)\n",
        "int_test_ds = test_ds.map(\n",
        "    lambda x, y: (text_vectorization(x), y),\n",
        "    num_parallel_calls=4)"
      ]
    },
    {
      "cell_type": "markdown",
      "metadata": {
        "id": "NW0_KDINzGmi"
      },
      "source": [
        "**A sequence model built on one-hot encoded vector sequences**"
      ]
    },
    {
      "cell_type": "code",
      "execution_count": null,
      "metadata": {
        "id": "f-iSMHSpzGmi",
        "colab": {
          "base_uri": "https://localhost:8080/"
        },
        "outputId": "fbdfeb60-10a4-4b80-fad9-f82021c4ba00"
      },
      "outputs": [
        {
          "output_type": "stream",
          "name": "stdout",
          "text": [
            "Model: \"model\"\n",
            "_________________________________________________________________\n",
            " Layer (type)                Output Shape              Param #   \n",
            "=================================================================\n",
            " input_1 (InputLayer)        [(None, None)]            0         \n",
            "                                                                 \n",
            " tf.one_hot (TFOpLambda)     (None, None, 10000)       0         \n",
            "                                                                 \n",
            " bidirectional (Bidirectiona  (None, 64)               2568448   \n",
            " l)                                                              \n",
            "                                                                 \n",
            " dropout (Dropout)           (None, 64)                0         \n",
            "                                                                 \n",
            " dense (Dense)               (None, 1)                 65        \n",
            "                                                                 \n",
            "=================================================================\n",
            "Total params: 2,568,513\n",
            "Trainable params: 2,568,513\n",
            "Non-trainable params: 0\n",
            "_________________________________________________________________\n"
          ]
        }
      ],
      "source": [
        "import tensorflow as tf\n",
        "inputs = keras.Input(shape=(None,), dtype=\"int64\")\n",
        "embedded = tf.one_hot(inputs, depth=max_tokens)\n",
        "x = layers.Bidirectional(layers.LSTM(32))(embedded)\n",
        "x = layers.Dropout(0.5)(x)\n",
        "outputs = layers.Dense(1, activation=\"sigmoid\")(x)\n",
        "model = keras.Model(inputs, outputs)\n",
        "model.compile(optimizer=\"rmsprop\",\n",
        "              loss=\"binary_crossentropy\",\n",
        "              metrics=[\"accuracy\"])\n",
        "model.summary()"
      ]
    },
    {
      "cell_type": "markdown",
      "metadata": {
        "id": "Qxx38lKpzGmj"
      },
      "source": [
        "**Training a first basic sequence model**"
      ]
    },
    {
      "cell_type": "code",
      "execution_count": null,
      "metadata": {
        "id": "7OIXK-lWzGmj",
        "colab": {
          "base_uri": "https://localhost:8080/"
        },
        "outputId": "77ab97d1-6c92-47fc-da65-9044ae9e7461"
      },
      "outputs": [
        {
          "output_type": "stream",
          "name": "stdout",
          "text": [
            "Epoch 1/10\n",
            "625/625 [==============================] - 39s 47ms/step - loss: 0.5430 - accuracy: 0.7236 - val_loss: 0.4148 - val_accuracy: 0.8162\n",
            "Epoch 2/10\n",
            "625/625 [==============================] - 27s 43ms/step - loss: 0.3621 - accuracy: 0.8600 - val_loss: 0.3944 - val_accuracy: 0.8268\n",
            "Epoch 3/10\n",
            "625/625 [==============================] - 29s 46ms/step - loss: 0.3063 - accuracy: 0.8845 - val_loss: 0.3646 - val_accuracy: 0.8412\n",
            "Epoch 4/10\n",
            "625/625 [==============================] - 27s 43ms/step - loss: 0.2709 - accuracy: 0.9004 - val_loss: 0.3940 - val_accuracy: 0.8500\n",
            "Epoch 5/10\n",
            "625/625 [==============================] - 29s 46ms/step - loss: 0.2401 - accuracy: 0.9112 - val_loss: 0.3570 - val_accuracy: 0.8472\n",
            "Epoch 6/10\n",
            "625/625 [==============================] - 27s 43ms/step - loss: 0.2137 - accuracy: 0.9236 - val_loss: 0.4008 - val_accuracy: 0.8382\n",
            "Epoch 7/10\n",
            "625/625 [==============================] - 27s 43ms/step - loss: 0.1821 - accuracy: 0.9365 - val_loss: 0.5559 - val_accuracy: 0.8348\n",
            "Epoch 8/10\n",
            "625/625 [==============================] - 27s 43ms/step - loss: 0.1549 - accuracy: 0.9457 - val_loss: 0.4433 - val_accuracy: 0.8398\n",
            "Epoch 9/10\n",
            "625/625 [==============================] - 27s 43ms/step - loss: 0.1278 - accuracy: 0.9570 - val_loss: 0.5283 - val_accuracy: 0.8122\n",
            "Epoch 10/10\n",
            "625/625 [==============================] - 29s 46ms/step - loss: 0.1027 - accuracy: 0.9676 - val_loss: 0.5656 - val_accuracy: 0.8392\n",
            "782/782 [==============================] - 18s 22ms/step - loss: 0.3688 - accuracy: 0.8406\n",
            "Test acc: 0.841\n"
          ]
        }
      ],
      "source": [
        "callbacks = [\n",
        "    keras.callbacks.ModelCheckpoint(\"one_hot_bidir_lstm.keras\",\n",
        "                                    save_best_only=True)\n",
        "]\n",
        "model.fit(training, validation_data=validation, epochs=10, callbacks=callbacks)\n",
        "model = keras.models.load_model(\"one_hot_bidir_lstm.keras\")\n",
        "print(f\"Test acc: {model.evaluate(int_test_ds)[1]:.3f}\")"
      ]
    },
    {
      "cell_type": "markdown",
      "metadata": {
        "id": "JKW0yb6AzGmj"
      },
      "source": [
        "#### Understanding word embeddings"
      ]
    },
    {
      "cell_type": "markdown",
      "metadata": {
        "id": "3irO5M27zGmj"
      },
      "source": [
        "#### Learning word embeddings with the Embedding layer"
      ]
    },
    {
      "cell_type": "markdown",
      "metadata": {
        "id": "owQ7BSI-zGmj"
      },
      "source": [
        "**Instantiating an `Embedding` layer**"
      ]
    },
    {
      "cell_type": "code",
      "execution_count": null,
      "metadata": {
        "id": "pD3uFbWIzGmk"
      },
      "outputs": [],
      "source": [
        "embedding_layer = layers.Embedding(input_dim=max_tokens, output_dim=256)"
      ]
    },
    {
      "cell_type": "markdown",
      "metadata": {
        "id": "QPJtdlrAzGmk"
      },
      "source": [
        "**Model that uses an `Embedding` layer trained from scratch**"
      ]
    },
    {
      "cell_type": "code",
      "execution_count": null,
      "metadata": {
        "id": "9p6u4IAOzGmk",
        "colab": {
          "base_uri": "https://localhost:8080/"
        },
        "outputId": "48b57419-623b-4fb3-b852-7eb95b483e39"
      },
      "outputs": [
        {
          "output_type": "stream",
          "name": "stdout",
          "text": [
            "Model: \"model_1\"\n",
            "_________________________________________________________________\n",
            " Layer (type)                Output Shape              Param #   \n",
            "=================================================================\n",
            " input_2 (InputLayer)        [(None, None)]            0         \n",
            "                                                                 \n",
            " embedding_1 (Embedding)     (None, None, 256)         2560000   \n",
            "                                                                 \n",
            " bidirectional_1 (Bidirectio  (None, 64)               73984     \n",
            " nal)                                                            \n",
            "                                                                 \n",
            " dropout_1 (Dropout)         (None, 64)                0         \n",
            "                                                                 \n",
            " dense_1 (Dense)             (None, 1)                 65        \n",
            "                                                                 \n",
            "=================================================================\n",
            "Total params: 2,634,049\n",
            "Trainable params: 2,634,049\n",
            "Non-trainable params: 0\n",
            "_________________________________________________________________\n",
            "Epoch 1/10\n",
            "625/625 [==============================] - 55s 78ms/step - loss: 0.5214 - accuracy: 0.7441 - val_loss: 0.4403 - val_accuracy: 0.8160\n",
            "Epoch 2/10\n",
            "625/625 [==============================] - 23s 37ms/step - loss: 0.3510 - accuracy: 0.8576 - val_loss: 0.3682 - val_accuracy: 0.8402\n",
            "Epoch 3/10\n",
            "625/625 [==============================] - 17s 27ms/step - loss: 0.2897 - accuracy: 0.8872 - val_loss: 0.3828 - val_accuracy: 0.8402\n",
            "Epoch 4/10\n",
            "625/625 [==============================] - 16s 25ms/step - loss: 0.2480 - accuracy: 0.9057 - val_loss: 0.3784 - val_accuracy: 0.8442\n",
            "Epoch 5/10\n",
            "625/625 [==============================] - 16s 26ms/step - loss: 0.2130 - accuracy: 0.9208 - val_loss: 0.4426 - val_accuracy: 0.8286\n",
            "Epoch 6/10\n",
            "625/625 [==============================] - 17s 27ms/step - loss: 0.1806 - accuracy: 0.9338 - val_loss: 0.4993 - val_accuracy: 0.8386\n",
            "Epoch 7/10\n",
            "625/625 [==============================] - 16s 26ms/step - loss: 0.1539 - accuracy: 0.9457 - val_loss: 0.4548 - val_accuracy: 0.8356\n",
            "Epoch 8/10\n",
            "625/625 [==============================] - 15s 24ms/step - loss: 0.1232 - accuracy: 0.9569 - val_loss: 0.5574 - val_accuracy: 0.8374\n",
            "Epoch 9/10\n",
            "625/625 [==============================] - 16s 26ms/step - loss: 0.0988 - accuracy: 0.9646 - val_loss: 0.6377 - val_accuracy: 0.8360\n",
            "Epoch 10/10\n",
            "625/625 [==============================] - 16s 25ms/step - loss: 0.0876 - accuracy: 0.9711 - val_loss: 0.6031 - val_accuracy: 0.8352\n",
            "782/782 [==============================] - 9s 10ms/step - loss: 0.3788 - accuracy: 0.8316\n",
            "Test acc: 0.832\n"
          ]
        }
      ],
      "source": [
        "inputs = keras.Input(shape=(None,), dtype=\"int64\")\n",
        "embedded = layers.Embedding(input_dim=max_tokens, output_dim=256)(inputs)\n",
        "x = layers.Bidirectional(layers.LSTM(32))(embedded)\n",
        "x = layers.Dropout(0.5)(x)\n",
        "outputs = layers.Dense(1, activation=\"sigmoid\")(x)\n",
        "model = keras.Model(inputs, outputs)\n",
        "model.compile(optimizer=\"rmsprop\",\n",
        "              loss=\"binary_crossentropy\",\n",
        "              metrics=[\"accuracy\"])\n",
        "model.summary()\n",
        "\n",
        "callbacks = [\n",
        "    keras.callbacks.ModelCheckpoint(\"embeddings_bidir_gru.keras\",\n",
        "                                    save_best_only=True)\n",
        "]\n",
        "model.fit(training, validation_data=validation, epochs=10, callbacks=callbacks)\n",
        "model = keras.models.load_model(\"embeddings_bidir_gru.keras\")\n",
        "print(f\"Test acc: {model.evaluate(int_test_ds)[1]:.3f}\")"
      ]
    },
    {
      "cell_type": "markdown",
      "metadata": {
        "id": "UgXEL3cMzGmk"
      },
      "source": [
        "#### Understanding padding and masking"
      ]
    },
    {
      "cell_type": "markdown",
      "metadata": {
        "id": "0bY8zog-zGmk"
      },
      "source": [
        "**Using an `Embedding` layer with masking enabled**"
      ]
    },
    {
      "cell_type": "code",
      "execution_count": null,
      "metadata": {
        "id": "RbdnbIVVzGmk",
        "colab": {
          "base_uri": "https://localhost:8080/"
        },
        "outputId": "bdb6372a-7a22-4d64-f11c-420c4396da85"
      },
      "outputs": [
        {
          "output_type": "stream",
          "name": "stdout",
          "text": [
            "Model: \"model_2\"\n",
            "_________________________________________________________________\n",
            " Layer (type)                Output Shape              Param #   \n",
            "=================================================================\n",
            " input_3 (InputLayer)        [(None, None)]            0         \n",
            "                                                                 \n",
            " embedding_2 (Embedding)     (None, None, 256)         2560000   \n",
            "                                                                 \n",
            " bidirectional_2 (Bidirectio  (None, 64)               73984     \n",
            " nal)                                                            \n",
            "                                                                 \n",
            " dropout_2 (Dropout)         (None, 64)                0         \n",
            "                                                                 \n",
            " dense_2 (Dense)             (None, 1)                 65        \n",
            "                                                                 \n",
            "=================================================================\n",
            "Total params: 2,634,049\n",
            "Trainable params: 2,634,049\n",
            "Non-trainable params: 0\n",
            "_________________________________________________________________\n",
            "Epoch 1/10\n",
            "625/625 [==============================] - 57s 77ms/step - loss: 0.4876 - accuracy: 0.7576 - val_loss: 0.3670 - val_accuracy: 0.8398\n",
            "Epoch 2/10\n",
            "625/625 [==============================] - 25s 41ms/step - loss: 0.3236 - accuracy: 0.8690 - val_loss: 0.4012 - val_accuracy: 0.8292\n",
            "Epoch 3/10\n",
            "625/625 [==============================] - 24s 39ms/step - loss: 0.2620 - accuracy: 0.8984 - val_loss: 0.3853 - val_accuracy: 0.8422\n",
            "Epoch 4/10\n",
            "625/625 [==============================] - 21s 33ms/step - loss: 0.2136 - accuracy: 0.9182 - val_loss: 0.3822 - val_accuracy: 0.8408\n",
            "Epoch 5/10\n",
            "625/625 [==============================] - 20s 31ms/step - loss: 0.1707 - accuracy: 0.9378 - val_loss: 0.4624 - val_accuracy: 0.8416\n",
            "Epoch 6/10\n",
            "625/625 [==============================] - 22s 35ms/step - loss: 0.1342 - accuracy: 0.9529 - val_loss: 0.5245 - val_accuracy: 0.8280\n",
            "Epoch 7/10\n",
            "625/625 [==============================] - 22s 35ms/step - loss: 0.1068 - accuracy: 0.9620 - val_loss: 0.6499 - val_accuracy: 0.8344\n",
            "Epoch 8/10\n",
            "625/625 [==============================] - 20s 31ms/step - loss: 0.0778 - accuracy: 0.9718 - val_loss: 0.6625 - val_accuracy: 0.8334\n",
            "Epoch 9/10\n",
            "625/625 [==============================] - 21s 33ms/step - loss: 0.0601 - accuracy: 0.9798 - val_loss: 0.7024 - val_accuracy: 0.8308\n",
            "Epoch 10/10\n",
            "625/625 [==============================] - 20s 32ms/step - loss: 0.0484 - accuracy: 0.9848 - val_loss: 0.7675 - val_accuracy: 0.8330\n",
            "782/782 [==============================] - 14s 14ms/step - loss: 0.3772 - accuracy: 0.8331\n",
            "Test acc: 0.833\n"
          ]
        }
      ],
      "source": [
        "inputs = keras.Input(shape=(None,), dtype=\"int64\")\n",
        "embedded = layers.Embedding(\n",
        "    input_dim=max_tokens, output_dim=256, mask_zero=True)(inputs)\n",
        "x = layers.Bidirectional(layers.LSTM(32))(embedded)\n",
        "x = layers.Dropout(0.5)(x)\n",
        "outputs = layers.Dense(1, activation=\"sigmoid\")(x)\n",
        "model = keras.Model(inputs, outputs)\n",
        "model.compile(optimizer=\"rmsprop\",\n",
        "              loss=\"binary_crossentropy\",\n",
        "              metrics=[\"accuracy\"])\n",
        "model.summary()\n",
        "\n",
        "callbacks = [\n",
        "    keras.callbacks.ModelCheckpoint(\"embeddings_bidir_gru_with_masking.keras\",\n",
        "                                    save_best_only=True)\n",
        "]\n",
        "model.fit(training, validation_data=validation, epochs=10, callbacks=callbacks)\n",
        "model = keras.models.load_model(\"embeddings_bidir_gru_with_masking.keras\")\n",
        "print(f\"Test acc: {model.evaluate(int_test_ds)[1]:.3f}\")"
      ]
    },
    {
      "cell_type": "markdown",
      "metadata": {
        "id": "R-6H4f9mzGmk"
      },
      "source": [
        "#### Using pretrained word embeddings"
      ]
    },
    {
      "cell_type": "code",
      "execution_count": null,
      "metadata": {
        "id": "hBk_S_fOzGml",
        "colab": {
          "base_uri": "https://localhost:8080/"
        },
        "outputId": "04e53e38-3e1f-4ef1-aa87-b0678ed3d8f4"
      },
      "outputs": [
        {
          "output_type": "stream",
          "name": "stdout",
          "text": [
            "--2023-04-24 06:41:45--  http://nlp.stanford.edu/data/glove.6B.zip\n",
            "Resolving nlp.stanford.edu (nlp.stanford.edu)... 171.64.67.140\n",
            "Connecting to nlp.stanford.edu (nlp.stanford.edu)|171.64.67.140|:80... connected.\n",
            "HTTP request sent, awaiting response... 302 Found\n",
            "Location: https://nlp.stanford.edu/data/glove.6B.zip [following]\n",
            "--2023-04-24 06:41:45--  https://nlp.stanford.edu/data/glove.6B.zip\n",
            "Connecting to nlp.stanford.edu (nlp.stanford.edu)|171.64.67.140|:443... connected.\n",
            "HTTP request sent, awaiting response... 301 Moved Permanently\n",
            "Location: https://downloads.cs.stanford.edu/nlp/data/glove.6B.zip [following]\n",
            "--2023-04-24 06:41:45--  https://downloads.cs.stanford.edu/nlp/data/glove.6B.zip\n",
            "Resolving downloads.cs.stanford.edu (downloads.cs.stanford.edu)... 171.64.64.22\n",
            "Connecting to downloads.cs.stanford.edu (downloads.cs.stanford.edu)|171.64.64.22|:443... connected.\n",
            "HTTP request sent, awaiting response... 200 OK\n",
            "Length: 862182613 (822M) [application/zip]\n",
            "Saving to: ‘glove.6B.zip’\n",
            "\n",
            "glove.6B.zip        100%[===================>] 822.24M  5.02MB/s    in 2m 39s  \n",
            "\n",
            "2023-04-24 06:44:25 (5.16 MB/s) - ‘glove.6B.zip’ saved [862182613/862182613]\n",
            "\n"
          ]
        }
      ],
      "source": [
        "!wget http://nlp.stanford.edu/data/glove.6B.zip\n",
        "!unzip -q glove.6B.zip"
      ]
    },
    {
      "cell_type": "markdown",
      "metadata": {
        "id": "iiWORA7xzGml"
      },
      "source": [
        "**Parsing the GloVe word-embeddings file**"
      ]
    },
    {
      "cell_type": "code",
      "execution_count": null,
      "metadata": {
        "id": "1YcJ2fRNzGml",
        "colab": {
          "base_uri": "https://localhost:8080/"
        },
        "outputId": "43a9ad7c-84a6-4b26-8477-ff9d95e6aea3"
      },
      "outputs": [
        {
          "output_type": "stream",
          "name": "stdout",
          "text": [
            "Found 400000 word vectors.\n"
          ]
        }
      ],
      "source": [
        "import numpy as np\n",
        "path_to_glove_file = \"glove.6B.100d.txt\"\n",
        "\n",
        "embeddings_index = {}\n",
        "with open(path_to_glove_file) as f:\n",
        "    for line in f:\n",
        "        word, coefs = line.split(maxsplit=1)\n",
        "        coefs = np.fromstring(coefs, \"f\", sep=\" \")\n",
        "        embeddings_index[word] = coefs\n",
        "\n",
        "print(f\"Found {len(embeddings_index)} word vectors.\")"
      ]
    },
    {
      "cell_type": "markdown",
      "metadata": {
        "id": "ImAboinezGml"
      },
      "source": [
        "**Preparing the GloVe word-embeddings matrix**"
      ]
    },
    {
      "cell_type": "code",
      "execution_count": null,
      "metadata": {
        "id": "OFNdbkIozGmm"
      },
      "outputs": [],
      "source": [
        "embedding_dim = 100\n",
        "\n",
        "vocabulary = text_vectorization.get_vocabulary()\n",
        "word_index = dict(zip(vocabulary, range(len(vocabulary))))\n",
        "\n",
        "embedding_matrix = np.zeros((max_tokens, embedding_dim))\n",
        "for word, i in word_index.items():\n",
        "    if i < max_tokens:\n",
        "        embedding_vector = embeddings_index.get(word)\n",
        "    if embedding_vector is not None:\n",
        "        embedding_matrix[i] = embedding_vector"
      ]
    },
    {
      "cell_type": "code",
      "execution_count": null,
      "metadata": {
        "id": "GIVFqwHhzGmm"
      },
      "outputs": [],
      "source": [
        "embedding_layer = layers.Embedding(\n",
        "    max_tokens,\n",
        "    embedding_dim,\n",
        "    embeddings_initializer=keras.initializers.Constant(embedding_matrix),\n",
        "    trainable=False,\n",
        "    mask_zero=True,\n",
        ")"
      ]
    },
    {
      "cell_type": "markdown",
      "metadata": {
        "id": "MulNB9RFzGmm"
      },
      "source": [
        "**Model that uses a pretrained Embedding layer**"
      ]
    },
    {
      "cell_type": "code",
      "execution_count": null,
      "metadata": {
        "id": "i5JzwvyuzGmm",
        "colab": {
          "base_uri": "https://localhost:8080/"
        },
        "outputId": "5372e6e8-a8c9-4dc3-8617-38ea8b66c503"
      },
      "outputs": [
        {
          "output_type": "stream",
          "name": "stdout",
          "text": [
            "Model: \"model_3\"\n",
            "_________________________________________________________________\n",
            " Layer (type)                Output Shape              Param #   \n",
            "=================================================================\n",
            " input_4 (InputLayer)        [(None, None)]            0         \n",
            "                                                                 \n",
            " embedding_3 (Embedding)     (None, None, 100)         1000000   \n",
            "                                                                 \n",
            " bidirectional_3 (Bidirectio  (None, 64)               34048     \n",
            " nal)                                                            \n",
            "                                                                 \n",
            " dropout_3 (Dropout)         (None, 64)                0         \n",
            "                                                                 \n",
            " dense_3 (Dense)             (None, 1)                 65        \n",
            "                                                                 \n",
            "=================================================================\n",
            "Total params: 1,034,113\n",
            "Trainable params: 34,113\n",
            "Non-trainable params: 1,000,000\n",
            "_________________________________________________________________\n",
            "Epoch 1/10\n",
            "625/625 [==============================] - 35s 39ms/step - loss: 0.5881 - accuracy: 0.6819 - val_loss: 0.4759 - val_accuracy: 0.7742\n",
            "Epoch 2/10\n",
            "625/625 [==============================] - 20s 32ms/step - loss: 0.4767 - accuracy: 0.7771 - val_loss: 0.5083 - val_accuracy: 0.7814\n",
            "Epoch 3/10\n",
            "625/625 [==============================] - 20s 32ms/step - loss: 0.4370 - accuracy: 0.7991 - val_loss: 0.4199 - val_accuracy: 0.8064\n",
            "Epoch 4/10\n",
            "625/625 [==============================] - 22s 35ms/step - loss: 0.4108 - accuracy: 0.8130 - val_loss: 0.4001 - val_accuracy: 0.8160\n",
            "Epoch 5/10\n",
            "625/625 [==============================] - 22s 35ms/step - loss: 0.3893 - accuracy: 0.8244 - val_loss: 0.3906 - val_accuracy: 0.8266\n",
            "Epoch 6/10\n",
            "625/625 [==============================] - 22s 35ms/step - loss: 0.3696 - accuracy: 0.8350 - val_loss: 0.3892 - val_accuracy: 0.8270\n",
            "Epoch 7/10\n",
            "625/625 [==============================] - 20s 33ms/step - loss: 0.3550 - accuracy: 0.8440 - val_loss: 0.3856 - val_accuracy: 0.8306\n",
            "Epoch 8/10\n",
            "625/625 [==============================] - 22s 34ms/step - loss: 0.3391 - accuracy: 0.8526 - val_loss: 0.3776 - val_accuracy: 0.8384\n",
            "Epoch 9/10\n",
            "625/625 [==============================] - 19s 31ms/step - loss: 0.3231 - accuracy: 0.8605 - val_loss: 0.3858 - val_accuracy: 0.8362\n",
            "Epoch 10/10\n",
            "625/625 [==============================] - 20s 32ms/step - loss: 0.3104 - accuracy: 0.8679 - val_loss: 0.3853 - val_accuracy: 0.8354\n",
            "782/782 [==============================] - 14s 13ms/step - loss: 0.3709 - accuracy: 0.8382\n",
            "Test acc: 0.838\n"
          ]
        }
      ],
      "source": [
        "inputs = keras.Input(shape=(None,), dtype=\"int64\")\n",
        "embedded = embedding_layer(inputs)\n",
        "x = layers.Bidirectional(layers.LSTM(32))(embedded)\n",
        "x = layers.Dropout(0.5)(x)\n",
        "outputs = layers.Dense(1, activation=\"sigmoid\")(x)\n",
        "model = keras.Model(inputs, outputs)\n",
        "model.compile(optimizer=\"rmsprop\",\n",
        "              loss=\"binary_crossentropy\",\n",
        "              metrics=[\"accuracy\"])\n",
        "model.summary()\n",
        "\n",
        "callbacks = [\n",
        "    keras.callbacks.ModelCheckpoint(\"glove_embeddings_sequence_model.keras\",\n",
        "                                    save_best_only=True)\n",
        "]\n",
        "model.fit(training, validation_data=validation, epochs=10, callbacks=callbacks)\n",
        "model = keras.models.load_model(\"glove_embeddings_sequence_model.keras\")\n",
        "print(f\"Test acc: {model.evaluate(int_test_ds)[1]:.3f}\")"
      ]
    },
    {
      "cell_type": "markdown",
      "source": [
        "In the above code we have used the training sample 2000, like wise we have to run the code by chainging the training sample sizes such as 100,500,2000,5000\n",
        "so that we will be getting the accuracy values "
      ],
      "metadata": {
        "id": "0dF1jGSpgQGB"
      }
    }
  ],
  "metadata": {
    "accelerator": "GPU",
    "colab": {
      "provenance": [],
      "include_colab_link": true
    },
    "gpuClass": "standard",
    "kernelspec": {
      "display_name": "Python 3",
      "language": "python",
      "name": "python3"
    },
    "language_info": {
      "codemirror_mode": {
        "name": "ipython",
        "version": 3
      },
      "file_extension": ".py",
      "mimetype": "text/x-python",
      "name": "python",
      "nbconvert_exporter": "python",
      "pygments_lexer": "ipython3",
      "version": "3.7.0"
    }
  },
  "nbformat": 4,
  "nbformat_minor": 0
}