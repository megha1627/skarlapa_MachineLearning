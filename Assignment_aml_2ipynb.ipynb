{
  "nbformat": 4,
  "nbformat_minor": 0,
  "metadata": {
    "colab": {
      "provenance": []
    },
    "kernelspec": {
      "name": "python3",
      "display_name": "Python 3"
    },
    "language_info": {
      "name": "python"
    }
  },
  "cells": [
    {
      "cell_type": "code",
      "execution_count": 36,
      "metadata": {
        "id": "o9gTsWLDkXY9"
      },
      "outputs": [],
      "source": [
        "\n",
        "from tensorflow.keras.datasets import imdb\n",
        "(train_data, train_labels), (test_data, test_labels) = imdb.load_data(\n",
        "    num_words=10000)"
      ]
    },
    {
      "cell_type": "code",
      "source": [
        "train_labels[0]\n"
      ],
      "metadata": {
        "colab": {
          "base_uri": "https://localhost:8080/"
        },
        "id": "dID0xGn3lYUH",
        "outputId": "bee339dc-16f0-4a1d-c346-63edb7f558bc"
      },
      "execution_count": 37,
      "outputs": [
        {
          "output_type": "execute_result",
          "data": {
            "text/plain": [
              "1"
            ]
          },
          "metadata": {},
          "execution_count": 37
        }
      ]
    },
    {
      "cell_type": "code",
      "source": [
        "max([max(sequence) for sequence in train_data])"
      ],
      "metadata": {
        "colab": {
          "base_uri": "https://localhost:8080/"
        },
        "id": "mccEaIdlldxh",
        "outputId": "44a191a0-74e2-4cc9-d5db-b39a15a64a95"
      },
      "execution_count": 38,
      "outputs": [
        {
          "output_type": "execute_result",
          "data": {
            "text/plain": [
              "9999"
            ]
          },
          "metadata": {},
          "execution_count": 38
        }
      ]
    },
    {
      "cell_type": "code",
      "source": [
        "word_index = imdb.get_word_index()\n",
        "reverse_word_index = dict(\n",
        "    [(value, key) for (key, value) in word_index.items()])\n",
        "decoded_review = \" \".join(\n",
        "    [reverse_word_index.get(i - 3, \"?\") for i in train_data[0]])"
      ],
      "metadata": {
        "id": "OQegj7MVl7wy"
      },
      "execution_count": 39,
      "outputs": []
    },
    {
      "cell_type": "code",
      "source": [
        "import numpy as np\n",
        "def vectorize_sequences(sequences, dimension=10000):\n",
        "    results = np.zeros((len(sequences), dimension))\n",
        "    for i, sequence in enumerate(sequences):\n",
        "        for j in sequence:\n",
        "            results[i, j] = 1.\n",
        "    return results\n",
        "x_train = vectorize_sequences(train_data)\n",
        "x_test = vectorize_sequences(test_data)"
      ],
      "metadata": {
        "id": "xMqGI6Mtl--5"
      },
      "execution_count": 40,
      "outputs": []
    },
    {
      "cell_type": "code",
      "source": [
        "x_train[0]"
      ],
      "metadata": {
        "colab": {
          "base_uri": "https://localhost:8080/"
        },
        "id": "FqlMR7K3mFIs",
        "outputId": "d41a3826-7e14-4460-927f-50ac2f3c6b2e"
      },
      "execution_count": 41,
      "outputs": [
        {
          "output_type": "execute_result",
          "data": {
            "text/plain": [
              "array([0., 1., 1., ..., 0., 0., 0.])"
            ]
          },
          "metadata": {},
          "execution_count": 41
        }
      ]
    },
    {
      "cell_type": "code",
      "source": [
        "\n",
        "y_train = np.asarray(train_labels).astype(\"float32\")\n",
        "y_test = np.asarray(test_labels).astype(\"float32\")"
      ],
      "metadata": {
        "id": "KLPWh4TCmJhZ"
      },
      "execution_count": 42,
      "outputs": []
    },
    {
      "cell_type": "code",
      "source": [
        "from tensorflow import keras\n",
        "from tensorflow.keras import layers\n",
        "\n",
        "model = keras.Sequential([\n",
        "    layers.Dense(64, activation=\"tanh\"),\n",
        "    layers.Dense(1, activation=\"sigmoid\")\n",
        "])"
      ],
      "metadata": {
        "id": "T4vDH9yYmN8y"
      },
      "execution_count": 43,
      "outputs": []
    },
    {
      "cell_type": "code",
      "source": [
        "model.compile(optimizer=\"adam\", \n",
        "              loss=\"MSE\",\n",
        "              metrics=[\"accuracy\"])"
      ],
      "metadata": {
        "id": "NhGxG0nOmPaN"
      },
      "execution_count": 44,
      "outputs": []
    },
    {
      "cell_type": "markdown",
      "source": [
        "Validate the approach "
      ],
      "metadata": {
        "id": "hFEQIt1gmYmE"
      }
    },
    {
      "cell_type": "code",
      "source": [
        "x_val = x_train[:10000]\n",
        "partial_x_train = x_train[10000:]\n",
        "y_val = y_train[:10000]\n",
        "partial_y_train = y_train[10000:]"
      ],
      "metadata": {
        "id": "4xJnHezKmTI9"
      },
      "execution_count": 45,
      "outputs": []
    },
    {
      "cell_type": "code",
      "source": [
        "## model planned to train with 20 epoch with batch size of 256\n",
        "\n",
        "history = model.fit(partial_x_train,\n",
        "                    partial_y_train,\n",
        "                    epochs=20,\n",
        "                    batch_size=256,\n",
        "                    validation_data=(x_val, y_val))"
      ],
      "metadata": {
        "colab": {
          "base_uri": "https://localhost:8080/"
        },
        "id": "4ojQvHwim2xl",
        "outputId": "eee71e41-e244-4240-8ea5-b247e6ec0014"
      },
      "execution_count": 46,
      "outputs": [
        {
          "output_type": "stream",
          "name": "stdout",
          "text": [
            "Epoch 1/20\n",
            "59/59 [==============================] - 4s 56ms/step - loss: 0.1208 - accuracy: 0.8407 - val_loss: 0.0860 - val_accuracy: 0.8885\n",
            "Epoch 2/20\n",
            "59/59 [==============================] - 2s 37ms/step - loss: 0.0549 - accuracy: 0.9350 - val_loss: 0.0830 - val_accuracy: 0.8876\n",
            "Epoch 3/20\n",
            "59/59 [==============================] - 2s 36ms/step - loss: 0.0364 - accuracy: 0.9625 - val_loss: 0.0853 - val_accuracy: 0.8838\n",
            "Epoch 4/20\n",
            "59/59 [==============================] - 2s 37ms/step - loss: 0.0253 - accuracy: 0.9775 - val_loss: 0.0900 - val_accuracy: 0.8782\n",
            "Epoch 5/20\n",
            "59/59 [==============================] - 2s 33ms/step - loss: 0.0181 - accuracy: 0.9861 - val_loss: 0.0929 - val_accuracy: 0.8779\n",
            "Epoch 6/20\n",
            "59/59 [==============================] - 2s 36ms/step - loss: 0.0134 - accuracy: 0.9901 - val_loss: 0.0963 - val_accuracy: 0.8752\n",
            "Epoch 7/20\n",
            "59/59 [==============================] - 3s 52ms/step - loss: 0.0105 - accuracy: 0.9921 - val_loss: 0.0989 - val_accuracy: 0.8747\n",
            "Epoch 8/20\n",
            "59/59 [==============================] - 2s 37ms/step - loss: 0.0086 - accuracy: 0.9936 - val_loss: 0.1012 - val_accuracy: 0.8703\n",
            "Epoch 9/20\n",
            "59/59 [==============================] - 2s 36ms/step - loss: 0.0073 - accuracy: 0.9944 - val_loss: 0.1025 - val_accuracy: 0.8700\n",
            "Epoch 10/20\n",
            "59/59 [==============================] - 2s 32ms/step - loss: 0.0064 - accuracy: 0.9948 - val_loss: 0.1039 - val_accuracy: 0.8692\n",
            "Epoch 11/20\n",
            "59/59 [==============================] - 2s 32ms/step - loss: 0.0059 - accuracy: 0.9951 - val_loss: 0.1050 - val_accuracy: 0.8676\n",
            "Epoch 12/20\n",
            "59/59 [==============================] - 2s 37ms/step - loss: 0.0054 - accuracy: 0.9953 - val_loss: 0.1062 - val_accuracy: 0.8677\n",
            "Epoch 13/20\n",
            "59/59 [==============================] - 3s 52ms/step - loss: 0.0051 - accuracy: 0.9955 - val_loss: 0.1068 - val_accuracy: 0.8673\n",
            "Epoch 14/20\n",
            "59/59 [==============================] - 2s 37ms/step - loss: 0.0049 - accuracy: 0.9955 - val_loss: 0.1076 - val_accuracy: 0.8675\n",
            "Epoch 15/20\n",
            "59/59 [==============================] - 2s 36ms/step - loss: 0.0048 - accuracy: 0.9957 - val_loss: 0.1082 - val_accuracy: 0.8667\n",
            "Epoch 16/20\n",
            "59/59 [==============================] - 2s 32ms/step - loss: 0.0046 - accuracy: 0.9957 - val_loss: 0.1084 - val_accuracy: 0.8665\n",
            "Epoch 17/20\n",
            "59/59 [==============================] - 2s 36ms/step - loss: 0.0045 - accuracy: 0.9958 - val_loss: 0.1091 - val_accuracy: 0.8659\n",
            "Epoch 18/20\n",
            "59/59 [==============================] - 3s 53ms/step - loss: 0.0044 - accuracy: 0.9959 - val_loss: 0.1097 - val_accuracy: 0.8648\n",
            "Epoch 19/20\n",
            "59/59 [==============================] - 3s 52ms/step - loss: 0.0042 - accuracy: 0.9961 - val_loss: 0.1103 - val_accuracy: 0.8651\n",
            "Epoch 20/20\n",
            "59/59 [==============================] - 2s 39ms/step - loss: 0.0042 - accuracy: 0.9961 - val_loss: 0.1105 - val_accuracy: 0.8647\n"
          ]
        }
      ]
    },
    {
      "cell_type": "code",
      "source": [
        "history_dict = history.history\n",
        "history_dict.keys()"
      ],
      "metadata": {
        "colab": {
          "base_uri": "https://localhost:8080/"
        },
        "id": "Ca_nc6hCsIJs",
        "outputId": "fd74dd00-4170-49fd-e0b0-03b0c412eff2"
      },
      "execution_count": 47,
      "outputs": [
        {
          "output_type": "execute_result",
          "data": {
            "text/plain": [
              "dict_keys(['loss', 'accuracy', 'val_loss', 'val_accuracy'])"
            ]
          },
          "metadata": {},
          "execution_count": 47
        }
      ]
    },
    {
      "cell_type": "code",
      "source": [
        "import matplotlib.pyplot as plt\n",
        "history_dict = history.history\n",
        "loss_values = history_dict[\"loss\"]\n",
        "val_loss_values = history_dict[\"val_loss\"]\n",
        "epochs = range(1, len(loss_values) + 1)\n",
        "plt.plot(epochs, loss_values, \"bo\", label=\"Training loss\")\n",
        "plt.plot(epochs, val_loss_values, \"b\", label=\"Validation loss\")\n",
        "plt.title(\"Training and validation loss\")\n",
        "plt.xlabel(\"Epochs\")\n",
        "plt.ylabel(\"Loss\")\n",
        "plt.legend()\n",
        "plt.show()"
      ],
      "metadata": {
        "colab": {
          "base_uri": "https://localhost:8080/",
          "height": 295
        },
        "id": "_Ncw2bGRsUds",
        "outputId": "de63b369-62cf-485f-e772-c9c1d53fa598"
      },
      "execution_count": 48,
      "outputs": [
        {
          "output_type": "display_data",
          "data": {
            "text/plain": [
              "<Figure size 432x288 with 1 Axes>"
            ],
            "image/png": "[encoded data removed]"
          },
          "metadata": {
            "needs_background": "light"
          }
        }
      ]
    },
    {
      "cell_type": "code",
      "source": [
        "plt.clf()\n",
        "acc = history_dict[\"accuracy\"]\n",
        "val_acc = history_dict[\"val_accuracy\"]\n",
        "plt.plot(epochs, acc, \"bo\", label=\"Training acc\")\n",
        "plt.plot(epochs, val_acc, \"b\", label=\"Validation acc\")\n",
        "plt.title(\"Training and validation accuracy\")\n",
        "plt.xlabel(\"Epochs\")\n",
        "plt.ylabel(\"Accuracy\")\n",
        "plt.legend()\n",
        "plt.show()\n"
      ],
      "metadata": {
        "colab": {
          "base_uri": "https://localhost:8080/",
          "height": 295
        },
        "id": "P3xaReuesXV-",
        "outputId": "e2aaf828-7aaa-4ed8-8650-1e80393dfb11"
      },
      "execution_count": 49,
      "outputs": [
        {
          "output_type": "display_data",
          "data": {
            "text/plain": [
              "<Figure size 432x288 with 1 Axes>"
            ],
            "image/png": "[encoded data removed]"
          },
          "metadata": {
            "needs_background": "light"
          }
        }
      ]
    },
    {
      "cell_type": "code",
      "source": [
        "results= model.evaluate(x_test, y_test)\n"
      ],
      "metadata": {
        "colab": {
          "base_uri": "https://localhost:8080/"
        },
        "id": "UlXiKqfZsfkU",
        "outputId": "5e74b796-35e4-4994-c04b-ae8288042088"
      },
      "execution_count": 50,
      "outputs": [
        {
          "output_type": "stream",
          "name": "stdout",
          "text": [
            "782/782 [==============================] - 5s 6ms/step - loss: 0.1220 - accuracy: 0.8529\n"
          ]
        }
      ]
    },
    {
      "cell_type": "code",
      "source": [
        "results"
      ],
      "metadata": {
        "colab": {
          "base_uri": "https://localhost:8080/"
        },
        "id": "gG3VjoWBthZU",
        "outputId": "72fb11af-7d95-4634-9ee0-9fd7ee39fd3d"
      },
      "execution_count": 51,
      "outputs": [
        {
          "output_type": "execute_result",
          "data": {
            "text/plain": [
              "[0.12198736518621445, 0.8528800010681152]"
            ]
          },
          "metadata": {},
          "execution_count": 51
        }
      ]
    },
    {
      "cell_type": "markdown",
      "source": [
        "Combining all code together along with dropout layer"
      ],
      "metadata": {
        "id": "v4gBbR5FtmRS"
      }
    },
    {
      "cell_type": "code",
      "source": [
        "# Libraries required for setting up an environment\n",
        "\n",
        "#####################################\n",
        "from tensorflow import keras\n",
        "from tensorflow.keras import layers\n",
        "from keras.layers import Dense\n",
        "from keras.layers import Dropout\n",
        "from tensorflow.keras import regularizers\n",
        "#####################################\n",
        "\n",
        "# Neural network implementation using 1 layered approach with a single dropout layer\n",
        "#######################################\n",
        "model = keras.Sequential()\n",
        "model.add(Dense(64,activation='tanh')) \n",
        "model.add(Dropout(0.5))\n",
        "#kernel_regularizer=regularizers.L1(0.01), activity_regularizer=regularizers.L2(0.01))\n",
        "model.add(Dense(64,activation='tanh',kernel_regularizer=regularizers.L1(0.01), activity_regularizer=regularizers.L2(0.01)))\n",
        "model.add(Dropout(0.5))\n",
        "model.add(Dense(64,activation='tanh'))\n",
        "model.add(Dense(1, activation='sigmoid'))\n",
        "########################################\n",
        "\n",
        "# Here for compilation we used optimizer \"adagrad\", mean squared error loss and accuracy metrics\n",
        "########################################\n",
        "model.compile(optimizer=\"adam\",\n",
        "              loss=\"MSE\",\n",
        "              metrics=[\"accuracy\"])\n",
        "########################################\n",
        "\n",
        "## splitting the data\n",
        "#######################################\n",
        "x_val = x_train[:10000]\n",
        "partial_x_train = x_train[10000:]\n",
        "y_val = y_train[:10000]\n",
        "partial_y_train = y_train[10000:]\n",
        "#######################################\n",
        "\n",
        "# Train a neural network\n",
        "#####################################################\n",
        "history = model.fit(partial_x_train,\n",
        "                    partial_y_train,\n",
        "                    epochs=20,\n",
        "                    batch_size=256,\n",
        "                    validation_data=(x_val, y_val))\n",
        "#####################################################\n",
        "\n",
        "# plotting the Training and Validation accuracy\n",
        "####################################################\n",
        "plt.clf()\n",
        "acc = history_dict[\"accuracy\"]\n",
        "val_acc = history_dict[\"val_accuracy\"]\n",
        "plt.plot(epochs, acc, \"bo\", label=\"Training acc\")\n",
        "plt.plot(epochs, val_acc, \"b\", label=\"Validation acc\")\n",
        "plt.title(\"Training and validation accuracy\")\n",
        "plt.xlabel(\"Epochs\")\n",
        "plt.ylabel(\"Accuracy\")\n",
        "plt.legend()\n",
        "plt.show()\n",
        "####################################################\n",
        "\n",
        "\n",
        "# Evaluating the results\n",
        "results = model.evaluate(x_test, y_test)\n",
        "results"
      ],
      "metadata": {
        "colab": {
          "base_uri": "https://localhost:8080/",
          "height": 1000
        },
        "id": "6GIW3RNNtpP4",
        "outputId": "bd346038-4824-4c8a-9b45-b8d612af01e5"
      },
      "execution_count": 52,
      "outputs": [
        {
          "output_type": "stream",
          "name": "stdout",
          "text": [
            "Epoch 1/20\n",
            "59/59 [==============================] - 4s 50ms/step - loss: 3.4713 - accuracy: 0.8039 - val_loss: 2.4107 - val_accuracy: 0.8703\n",
            "Epoch 2/20\n",
            "59/59 [==============================] - 2s 38ms/step - loss: 1.6513 - accuracy: 0.9105 - val_loss: 0.9970 - val_accuracy: 0.8845\n",
            "Epoch 3/20\n",
            "59/59 [==============================] - 3s 56ms/step - loss: 0.5600 - accuracy: 0.9390 - val_loss: 0.2723 - val_accuracy: 0.8852\n",
            "Epoch 4/20\n",
            "59/59 [==============================] - 2s 39ms/step - loss: 0.1427 - accuracy: 0.9534 - val_loss: 0.1333 - val_accuracy: 0.8870\n",
            "Epoch 5/20\n",
            "59/59 [==============================] - 2s 35ms/step - loss: 0.0894 - accuracy: 0.9589 - val_loss: 0.1208 - val_accuracy: 0.8861\n",
            "Epoch 6/20\n",
            "59/59 [==============================] - 2s 36ms/step - loss: 0.0752 - accuracy: 0.9665 - val_loss: 0.1190 - val_accuracy: 0.8842\n",
            "Epoch 7/20\n",
            "59/59 [==============================] - 2s 39ms/step - loss: 0.0653 - accuracy: 0.9734 - val_loss: 0.1207 - val_accuracy: 0.8779\n",
            "Epoch 8/20\n",
            "59/59 [==============================] - 3s 54ms/step - loss: 0.0579 - accuracy: 0.9775 - val_loss: 0.1187 - val_accuracy: 0.8801\n",
            "Epoch 9/20\n",
            "59/59 [==============================] - 3s 43ms/step - loss: 0.0529 - accuracy: 0.9815 - val_loss: 0.1164 - val_accuracy: 0.8820\n",
            "Epoch 10/20\n",
            "59/59 [==============================] - 2s 38ms/step - loss: 0.0477 - accuracy: 0.9848 - val_loss: 0.1163 - val_accuracy: 0.8803\n",
            "Epoch 11/20\n",
            "59/59 [==============================] - 2s 39ms/step - loss: 0.0438 - accuracy: 0.9883 - val_loss: 0.1186 - val_accuracy: 0.8807\n",
            "Epoch 12/20\n",
            "59/59 [==============================] - 2s 39ms/step - loss: 0.0409 - accuracy: 0.9895 - val_loss: 0.1199 - val_accuracy: 0.8771\n",
            "Epoch 13/20\n",
            "59/59 [==============================] - 3s 44ms/step - loss: 0.0384 - accuracy: 0.9903 - val_loss: 0.1205 - val_accuracy: 0.8774\n",
            "Epoch 14/20\n",
            "59/59 [==============================] - 3s 48ms/step - loss: 0.0364 - accuracy: 0.9909 - val_loss: 0.1192 - val_accuracy: 0.8760\n",
            "Epoch 15/20\n",
            "59/59 [==============================] - 2s 38ms/step - loss: 0.0340 - accuracy: 0.9930 - val_loss: 0.1193 - val_accuracy: 0.8751\n",
            "Epoch 16/20\n",
            "59/59 [==============================] - 2s 38ms/step - loss: 0.0322 - accuracy: 0.9933 - val_loss: 0.1190 - val_accuracy: 0.8748\n",
            "Epoch 17/20\n",
            "59/59 [==============================] - 2s 39ms/step - loss: 0.0310 - accuracy: 0.9934 - val_loss: 0.1199 - val_accuracy: 0.8749\n",
            "Epoch 18/20\n",
            "59/59 [==============================] - 2s 39ms/step - loss: 0.0294 - accuracy: 0.9941 - val_loss: 0.1232 - val_accuracy: 0.8720\n",
            "Epoch 19/20\n",
            "59/59 [==============================] - 3s 54ms/step - loss: 0.0283 - accuracy: 0.9949 - val_loss: 0.1197 - val_accuracy: 0.8733\n",
            "Epoch 20/20\n",
            "59/59 [==============================] - 2s 35ms/step - loss: 0.0275 - accuracy: 0.9948 - val_loss: 0.1209 - val_accuracy: 0.8733\n"
          ]
        },
        {
          "output_type": "display_data",
          "data": {
            "text/plain": [
              "<Figure size 432x288 with 1 Axes>"
            ],
            "image/png": "[encoded data removed]"
          },
          "metadata": {
            "needs_background": "light"
          }
        },
        {
          "output_type": "stream",
          "name": "stdout",
          "text": [
            "782/782 [==============================] - 3s 3ms/step - loss: 0.1303 - accuracy: 0.8602\n"
          ]
        },
        {
          "output_type": "execute_result",
          "data": {
            "text/plain": [
              "[0.13029888272285461, 0.8601599931716919]"
            ]
          },
          "metadata": {},
          "execution_count": 52
        }
      ]
    }
  ]
}