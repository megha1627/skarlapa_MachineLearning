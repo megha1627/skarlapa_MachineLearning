{
  "nbformat": 4,
  "nbformat_minor": 0,
  "metadata": {
    "colab": {
      "provenance": []
    },
    "kernelspec": {
      "name": "python3",
      "display_name": "Python 3"
    },
    "language_info": {
      "name": "python"
    }
  },
  "cells": [
    {
      "cell_type": "code",
      "execution_count": 1,
      "metadata": {
        "id": "o9gTsWLDkXY9",
        "colab": {
          "base_uri": "https://localhost:8080/"
        },
        "outputId": "d6fd3eb4-6fa1-423d-ea2a-01ec2bcfa1a1"
      },
      "outputs": [
        {
          "output_type": "stream",
          "name": "stdout",
          "text": [
            "Downloading data from https://storage.googleapis.com/tensorflow/tf-keras-datasets/imdb.npz\n",
            "17464789/17464789 [==============================] - 0s 0us/step\n"
          ]
        }
      ],
      "source": [
        "\n",
        "from tensorflow.keras.datasets import imdb\n",
        "(train_data, train_labels), (test_data, test_labels) = imdb.load_data(\n",
        "    num_words=10000)"
      ]
    },
    {
      "cell_type": "code",
      "source": [
        "train_labels[0]\n"
      ],
      "metadata": {
        "colab": {
          "base_uri": "https://localhost:8080/"
        },
        "id": "dID0xGn3lYUH",
        "outputId": "1e86042e-9aaa-4e91-c2ee-58ea8f24c6f6"
      },
      "execution_count": 2,
      "outputs": [
        {
          "output_type": "execute_result",
          "data": {
            "text/plain": [
              "1"
            ]
          },
          "metadata": {},
          "execution_count": 2
        }
      ]
    },
    {
      "cell_type": "code",
      "source": [
        "max([max(sequence) for sequence in train_data])"
      ],
      "metadata": {
        "colab": {
          "base_uri": "https://localhost:8080/"
        },
        "id": "mccEaIdlldxh",
        "outputId": "07714f22-d546-4efb-fa53-75a6c3c14a2f"
      },
      "execution_count": 3,
      "outputs": [
        {
          "output_type": "execute_result",
          "data": {
            "text/plain": [
              "9999"
            ]
          },
          "metadata": {},
          "execution_count": 3
        }
      ]
    },
    {
      "cell_type": "code",
      "source": [
        "word_index = imdb.get_word_index()\n",
        "reverse_word_index = dict(\n",
        "    [(value, key) for (key, value) in word_index.items()])\n",
        "decoded_review = \" \".join(\n",
        "    [reverse_word_index.get(i - 3, \"?\") for i in train_data[0]])"
      ],
      "metadata": {
        "id": "OQegj7MVl7wy",
        "colab": {
          "base_uri": "https://localhost:8080/"
        },
        "outputId": "9847f4ce-9c7d-4f94-d381-bfb1db0aeee7"
      },
      "execution_count": 4,
      "outputs": [
        {
          "output_type": "stream",
          "name": "stdout",
          "text": [
            "Downloading data from https://storage.googleapis.com/tensorflow/tf-keras-datasets/imdb_word_index.json\n",
            "1641221/1641221 [==============================] - 0s 0us/step\n"
          ]
        }
      ]
    },
    {
      "cell_type": "code",
      "source": [
        "import numpy as np\n",
        "def vectorize_sequences(sequences, dimension=10000):\n",
        "    results = np.zeros((len(sequences), dimension))\n",
        "    for i, sequence in enumerate(sequences):\n",
        "        for j in sequence:\n",
        "            results[i, j] = 1.\n",
        "    return results\n",
        "x_train = vectorize_sequences(train_data)\n",
        "x_test = vectorize_sequences(test_data)"
      ],
      "metadata": {
        "id": "xMqGI6Mtl--5"
      },
      "execution_count": 5,
      "outputs": []
    },
    {
      "cell_type": "code",
      "source": [
        "x_train[0]"
      ],
      "metadata": {
        "colab": {
          "base_uri": "https://localhost:8080/"
        },
        "id": "FqlMR7K3mFIs",
        "outputId": "388bc31b-9d8a-4d38-deb5-b67f9386291d"
      },
      "execution_count": 6,
      "outputs": [
        {
          "output_type": "execute_result",
          "data": {
            "text/plain": [
              "array([0., 1., 1., ..., 0., 0., 0.])"
            ]
          },
          "metadata": {},
          "execution_count": 6
        }
      ]
    },
    {
      "cell_type": "code",
      "source": [
        "\n",
        "y_train = np.asarray(train_labels).astype(\"float32\")\n",
        "y_test = np.asarray(test_labels).astype(\"float32\")"
      ],
      "metadata": {
        "id": "KLPWh4TCmJhZ"
      },
      "execution_count": 7,
      "outputs": []
    },
    {
      "cell_type": "code",
      "source": [
        "from tensorflow import keras\n",
        "from tensorflow.keras import layers\n",
        "\n",
        "model = keras.Sequential([\n",
        "    layers.Dense(128, activation=\"tanh\"),\n",
        "    layers.Dense(1, activation=\"sigmoid\")\n",
        "])"
      ],
      "metadata": {
        "id": "T4vDH9yYmN8y"
      },
      "execution_count": 8,
      "outputs": []
    },
    {
      "cell_type": "code",
      "source": [
        "model.compile(optimizer=\"adam\", \n",
        "              loss=\"MSE\",\n",
        "              metrics=[\"accuracy\"])"
      ],
      "metadata": {
        "id": "NhGxG0nOmPaN"
      },
      "execution_count": 9,
      "outputs": []
    },
    {
      "cell_type": "markdown",
      "source": [
        "Validate the approach "
      ],
      "metadata": {
        "id": "hFEQIt1gmYmE"
      }
    },
    {
      "cell_type": "code",
      "source": [
        "x_val = x_train[:10000]\n",
        "partial_x_train = x_train[10000:]\n",
        "y_val = y_train[:10000]\n",
        "partial_y_train = y_train[10000:]"
      ],
      "metadata": {
        "id": "4xJnHezKmTI9"
      },
      "execution_count": 10,
      "outputs": []
    },
    {
      "cell_type": "code",
      "source": [
        "## model planned to train with 20 epoch with batch size of 256\n",
        "\n",
        "history = model.fit(partial_x_train,\n",
        "                    partial_y_train,\n",
        "                    epochs=20,\n",
        "                    batch_size=256,\n",
        "                    validation_data=(x_val, y_val))"
      ],
      "metadata": {
        "colab": {
          "base_uri": "https://localhost:8080/"
        },
        "id": "4ojQvHwim2xl",
        "outputId": "454f10de-477e-4460-906e-828091395668"
      },
      "execution_count": 11,
      "outputs": [
        {
          "output_type": "stream",
          "name": "stdout",
          "text": [
            "Epoch 1/20\n",
            "59/59 [==============================] - 8s 116ms/step - loss: 0.1149 - accuracy: 0.8450 - val_loss: 0.0866 - val_accuracy: 0.8840\n",
            "Epoch 2/20\n",
            "59/59 [==============================] - 4s 60ms/step - loss: 0.0516 - accuracy: 0.9386 - val_loss: 0.0854 - val_accuracy: 0.8837\n",
            "Epoch 3/20\n",
            "59/59 [==============================] - 4s 68ms/step - loss: 0.0324 - accuracy: 0.9661 - val_loss: 0.0930 - val_accuracy: 0.8735\n",
            "Epoch 4/20\n",
            "59/59 [==============================] - 4s 73ms/step - loss: 0.0228 - accuracy: 0.9787 - val_loss: 0.0944 - val_accuracy: 0.8739\n",
            "Epoch 5/20\n",
            "59/59 [==============================] - 4s 66ms/step - loss: 0.0155 - accuracy: 0.9872 - val_loss: 0.0989 - val_accuracy: 0.8728\n",
            "Epoch 6/20\n",
            "59/59 [==============================] - 4s 68ms/step - loss: 0.0111 - accuracy: 0.9915 - val_loss: 0.1036 - val_accuracy: 0.8689\n",
            "Epoch 7/20\n",
            "59/59 [==============================] - 4s 68ms/step - loss: 0.0086 - accuracy: 0.9929 - val_loss: 0.1057 - val_accuracy: 0.8662\n",
            "Epoch 8/20\n",
            "59/59 [==============================] - 4s 70ms/step - loss: 0.0069 - accuracy: 0.9945 - val_loss: 0.1070 - val_accuracy: 0.8664\n",
            "Epoch 9/20\n",
            "59/59 [==============================] - 4s 68ms/step - loss: 0.0060 - accuracy: 0.9947 - val_loss: 0.1077 - val_accuracy: 0.8661\n",
            "Epoch 10/20\n",
            "59/59 [==============================] - 3s 57ms/step - loss: 0.0056 - accuracy: 0.9949 - val_loss: 0.1087 - val_accuracy: 0.8667\n",
            "Epoch 11/20\n",
            "59/59 [==============================] - 5s 79ms/step - loss: 0.0052 - accuracy: 0.9953 - val_loss: 0.1095 - val_accuracy: 0.8663\n",
            "Epoch 12/20\n",
            "59/59 [==============================] - 3s 57ms/step - loss: 0.0048 - accuracy: 0.9955 - val_loss: 0.1102 - val_accuracy: 0.8658\n",
            "Epoch 13/20\n",
            "59/59 [==============================] - 4s 68ms/step - loss: 0.0047 - accuracy: 0.9957 - val_loss: 0.1107 - val_accuracy: 0.8643\n",
            "Epoch 14/20\n",
            "59/59 [==============================] - 5s 79ms/step - loss: 0.0046 - accuracy: 0.9957 - val_loss: 0.1109 - val_accuracy: 0.8650\n",
            "Epoch 15/20\n",
            "59/59 [==============================] - 4s 61ms/step - loss: 0.0045 - accuracy: 0.9957 - val_loss: 0.1111 - val_accuracy: 0.8661\n",
            "Epoch 16/20\n",
            "59/59 [==============================] - 4s 68ms/step - loss: 0.0045 - accuracy: 0.9957 - val_loss: 0.1116 - val_accuracy: 0.8644\n",
            "Epoch 17/20\n",
            "59/59 [==============================] - 4s 72ms/step - loss: 0.0044 - accuracy: 0.9958 - val_loss: 0.1124 - val_accuracy: 0.8651\n",
            "Epoch 18/20\n",
            "59/59 [==============================] - 4s 74ms/step - loss: 0.0043 - accuracy: 0.9959 - val_loss: 0.1122 - val_accuracy: 0.8653\n",
            "Epoch 19/20\n",
            "59/59 [==============================] - 3s 58ms/step - loss: 0.0043 - accuracy: 0.9959 - val_loss: 0.1126 - val_accuracy: 0.8658\n",
            "Epoch 20/20\n",
            "59/59 [==============================] - 6s 101ms/step - loss: 0.0042 - accuracy: 0.9959 - val_loss: 0.1128 - val_accuracy: 0.8650\n"
          ]
        }
      ]
    },
    {
      "cell_type": "code",
      "source": [
        "history_dict = history.history\n",
        "history_dict.keys()"
      ],
      "metadata": {
        "colab": {
          "base_uri": "https://localhost:8080/"
        },
        "id": "Ca_nc6hCsIJs",
        "outputId": "a2cdabb4-459c-4685-faf3-f267a33f7f08"
      },
      "execution_count": 12,
      "outputs": [
        {
          "output_type": "execute_result",
          "data": {
            "text/plain": [
              "dict_keys(['loss', 'accuracy', 'val_loss', 'val_accuracy'])"
            ]
          },
          "metadata": {},
          "execution_count": 12
        }
      ]
    },
    {
      "cell_type": "code",
      "source": [
        "import matplotlib.pyplot as plt\n",
        "history_dict = history.history\n",
        "loss_values = history_dict[\"loss\"]\n",
        "val_loss_values = history_dict[\"val_loss\"]\n",
        "epochs = range(1, len(loss_values) + 1)\n",
        "plt.plot(epochs, loss_values, \"bo\", label=\"Training loss\")\n",
        "plt.plot(epochs, val_loss_values, \"b\", label=\"Validation loss\")\n",
        "plt.title(\"Training and validation loss\")\n",
        "plt.xlabel(\"Epochs\")\n",
        "plt.ylabel(\"Loss\")\n",
        "plt.legend()\n",
        "plt.show()"
      ],
      "metadata": {
        "colab": {
          "base_uri": "https://localhost:8080/",
          "height": 295
        },
        "id": "_Ncw2bGRsUds",
        "outputId": "a9e14698-d90b-486b-9666-28baa775f19d"
      },
      "execution_count": 13,
      "outputs": [
        {
          "output_type": "display_data",
          "data": {
            "text/plain": [
              "<Figure size 432x288 with 1 Axes>"
            ],
            "image/png": "[encoded data removed]"
          },
          "metadata": {
            "needs_background": "light"
          }
        }
      ]
    },
    {
      "cell_type": "code",
      "source": [
        "plt.clf()\n",
        "acc = history_dict[\"accuracy\"]\n",
        "val_acc = history_dict[\"val_accuracy\"]\n",
        "plt.plot(epochs, acc, \"bo\", label=\"Training acc\")\n",
        "plt.plot(epochs, val_acc, \"b\", label=\"Validation acc\")\n",
        "plt.title(\"Training and validation accuracy\")\n",
        "plt.xlabel(\"Epochs\")\n",
        "plt.ylabel(\"Accuracy\")\n",
        "plt.legend()\n",
        "plt.show()\n"
      ],
      "metadata": {
        "colab": {
          "base_uri": "https://localhost:8080/",
          "height": 295
        },
        "id": "P3xaReuesXV-",
        "outputId": "132d8394-7f27-4104-dfa8-61b98c048e47"
      },
      "execution_count": 14,
      "outputs": [
        {
          "output_type": "display_data",
          "data": {
            "text/plain": [
              "<Figure size 432x288 with 1 Axes>"
            ],
            "image/png": "[encoded data removed]"
          },
          "metadata": {
            "needs_background": "light"
          }
        }
      ]
    },
    {
      "cell_type": "code",
      "source": [
        "results= model.evaluate(x_test, y_test)\n"
      ],
      "metadata": {
        "colab": {
          "base_uri": "https://localhost:8080/"
        },
        "id": "UlXiKqfZsfkU",
        "outputId": "ec145a9b-4c89-4f5b-ee76-79732d40cdc0"
      },
      "execution_count": 15,
      "outputs": [
        {
          "output_type": "stream",
          "name": "stdout",
          "text": [
            "782/782 [==============================] - 4s 5ms/step - loss: 0.1236 - accuracy: 0.8518\n"
          ]
        }
      ]
    },
    {
      "cell_type": "code",
      "source": [
        "results"
      ],
      "metadata": {
        "colab": {
          "base_uri": "https://localhost:8080/"
        },
        "id": "gG3VjoWBthZU",
        "outputId": "befd5d98-bef7-481c-8f44-43b5bd6851af"
      },
      "execution_count": 16,
      "outputs": [
        {
          "output_type": "execute_result",
          "data": {
            "text/plain": [
              "[0.12357378005981445, 0.8517600297927856]"
            ]
          },
          "metadata": {},
          "execution_count": 16
        }
      ]
    },
    {
      "cell_type": "markdown",
      "source": [
        "Combining all code together along with dropout layer"
      ],
      "metadata": {
        "id": "v4gBbR5FtmRS"
      }
    },
    {
      "cell_type": "code",
      "source": [
        "# Libraries required for setting up an environment\n",
        "\n",
        "#####################################\n",
        "from tensorflow import keras\n",
        "from tensorflow.keras import layers\n",
        "from keras.layers import Dense\n",
        "from keras.layers import Dropout\n",
        "from tensorflow.keras import regularizers\n",
        "#####################################\n",
        "\n",
        "# Neural network implementation using 1 layered approach with a single dropout layer\n",
        "#######################################\n",
        "model = keras.Sequential()\n",
        "model.add(Dense(128,activation='tanh')) \n",
        "model.add(Dropout(0.5))\n",
        "#kernel_regularizer=regularizers.L1(0.01), activity_regularizer=regularizers.L2(0.01))\n",
        "model.add(Dense(128,activation='tanh',kernel_regularizer=regularizers.L1(0.01), activity_regularizer=regularizers.L2(0.01)))\n",
        "model.add(Dropout(0.5))\n",
        "model.add(Dense(128,activation='tanh'))\n",
        "model.add(Dense(1, activation='sigmoid'))\n",
        "########################################\n",
        "\n",
        "# Here for compilation we used optimizer \"adagrad\", mean squared error loss and accuracy metrics\n",
        "########################################\n",
        "model.compile(optimizer=\"adam\",\n",
        "              loss=\"MSE\",\n",
        "              metrics=[\"accuracy\"])\n",
        "########################################\n",
        "\n",
        "## splitting the data\n",
        "#######################################\n",
        "x_val = x_train[:10000]\n",
        "partial_x_train = x_train[10000:]\n",
        "y_val = y_train[:10000]\n",
        "partial_y_train = y_train[10000:]\n",
        "#######################################\n",
        "\n",
        "# Train a neural network\n",
        "#####################################################\n",
        "history = model.fit(partial_x_train,\n",
        "                    partial_y_train,\n",
        "                    epochs=20,\n",
        "                    batch_size=256,\n",
        "                    validation_data=(x_val, y_val))\n",
        "#####################################################\n",
        "\n",
        "# plotting the Training and Validation accuracy\n",
        "####################################################\n",
        "plt.clf()\n",
        "acc = history_dict[\"accuracy\"]\n",
        "val_acc = history_dict[\"val_accuracy\"]\n",
        "plt.plot(epochs, acc, \"bo\", label=\"Training acc\")\n",
        "plt.plot(epochs, val_acc, \"b\", label=\"Validation acc\")\n",
        "plt.title(\"Training and validation accuracy\")\n",
        "plt.xlabel(\"Epochs\")\n",
        "plt.ylabel(\"Accuracy\")\n",
        "plt.legend()\n",
        "plt.show()\n",
        "####################################################\n",
        "\n",
        "\n",
        "# Evaluating the results\n",
        "results = model.evaluate(x_test, y_test)\n",
        "results"
      ],
      "metadata": {
        "colab": {
          "base_uri": "https://localhost:8080/",
          "height": 1000
        },
        "id": "6GIW3RNNtpP4",
        "outputId": "16495069-bd04-4cdd-f20a-eb63448c8941"
      },
      "execution_count": 17,
      "outputs": [
        {
          "output_type": "stream",
          "name": "stdout",
          "text": [
            "Epoch 1/20\n",
            "59/59 [==============================] - 7s 100ms/step - loss: 8.6346 - accuracy: 0.8194 - val_loss: 4.9300 - val_accuracy: 0.8745\n",
            "Epoch 2/20\n",
            "59/59 [==============================] - 4s 71ms/step - loss: 2.6080 - accuracy: 0.9248 - val_loss: 0.8581 - val_accuracy: 0.8880\n",
            "Epoch 3/20\n",
            "59/59 [==============================] - 4s 70ms/step - loss: 0.3042 - accuracy: 0.9475 - val_loss: 0.1598 - val_accuracy: 0.8879\n",
            "Epoch 4/20\n",
            "59/59 [==============================] - 5s 93ms/step - loss: 0.1127 - accuracy: 0.9555 - val_loss: 0.1412 - val_accuracy: 0.8880\n",
            "Epoch 5/20\n",
            "59/59 [==============================] - 4s 60ms/step - loss: 0.0961 - accuracy: 0.9634 - val_loss: 0.1381 - val_accuracy: 0.8861\n",
            "Epoch 6/20\n",
            "59/59 [==============================] - 4s 63ms/step - loss: 0.0843 - accuracy: 0.9709 - val_loss: 0.1409 - val_accuracy: 0.8819\n",
            "Epoch 7/20\n",
            "59/59 [==============================] - 5s 93ms/step - loss: 0.0776 - accuracy: 0.9773 - val_loss: 0.1365 - val_accuracy: 0.8827\n",
            "Epoch 8/20\n",
            "59/59 [==============================] - 4s 70ms/step - loss: 0.0715 - accuracy: 0.9823 - val_loss: 0.1383 - val_accuracy: 0.8783\n",
            "Epoch 9/20\n",
            "59/59 [==============================] - 4s 61ms/step - loss: 0.0668 - accuracy: 0.9855 - val_loss: 0.1417 - val_accuracy: 0.8803\n",
            "Epoch 10/20\n",
            "59/59 [==============================] - 5s 93ms/step - loss: 0.0637 - accuracy: 0.9877 - val_loss: 0.1450 - val_accuracy: 0.8765\n",
            "Epoch 11/20\n",
            "59/59 [==============================] - 4s 71ms/step - loss: 0.0601 - accuracy: 0.9903 - val_loss: 0.1418 - val_accuracy: 0.8752\n",
            "Epoch 12/20\n",
            "59/59 [==============================] - 4s 63ms/step - loss: 0.0565 - accuracy: 0.9917 - val_loss: 0.1487 - val_accuracy: 0.8734\n",
            "Epoch 13/20\n",
            "59/59 [==============================] - 5s 84ms/step - loss: 0.0558 - accuracy: 0.9923 - val_loss: 0.1489 - val_accuracy: 0.8727\n",
            "Epoch 14/20\n",
            "59/59 [==============================] - 4s 61ms/step - loss: 0.0539 - accuracy: 0.9929 - val_loss: 0.1437 - val_accuracy: 0.8705\n",
            "Epoch 15/20\n",
            "59/59 [==============================] - 4s 62ms/step - loss: 0.0510 - accuracy: 0.9938 - val_loss: 0.1486 - val_accuracy: 0.8711\n",
            "Epoch 16/20\n",
            "59/59 [==============================] - 5s 83ms/step - loss: 0.0503 - accuracy: 0.9947 - val_loss: 0.1478 - val_accuracy: 0.8690\n",
            "Epoch 17/20\n",
            "59/59 [==============================] - 4s 72ms/step - loss: 0.0484 - accuracy: 0.9948 - val_loss: 0.1457 - val_accuracy: 0.8686\n",
            "Epoch 18/20\n",
            "59/59 [==============================] - 4s 70ms/step - loss: 0.0474 - accuracy: 0.9950 - val_loss: 0.1509 - val_accuracy: 0.8674\n",
            "Epoch 19/20\n",
            "59/59 [==============================] - 5s 85ms/step - loss: 0.0503 - accuracy: 0.9939 - val_loss: 0.1638 - val_accuracy: 0.8642\n",
            "Epoch 20/20\n",
            "59/59 [==============================] - 4s 60ms/step - loss: 0.0541 - accuracy: 0.9937 - val_loss: 0.1760 - val_accuracy: 0.8656\n"
          ]
        },
        {
          "output_type": "display_data",
          "data": {
            "text/plain": [
              "<Figure size 432x288 with 1 Axes>"
            ],
            "image/png": "[encoded data removed]"
          },
          "metadata": {
            "needs_background": "light"
          }
        },
        {
          "output_type": "stream",
          "name": "stdout",
          "text": [
            "782/782 [==============================] - 4s 5ms/step - loss: 0.1861 - accuracy: 0.8544\n"
          ]
        },
        {
          "output_type": "execute_result",
          "data": {
            "text/plain": [
              "[0.18611685931682587, 0.8544399738311768]"
            ]
          },
          "metadata": {},
          "execution_count": 17
        }
      ]
    }
  ]
}